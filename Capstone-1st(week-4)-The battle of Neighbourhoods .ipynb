{
 "cells": [
  {
   "cell_type": "markdown",
   "metadata": {
    "collapsed": true
   },
   "source": [
    "#  Capstone Project - The Battle of Neighborhoods (Week 1)\n",
    "\n",
    "\n",
    "\n"
   ]
  },
  {
   "cell_type": "markdown",
   "metadata": {},
   "source": [
    "### problem : In Module 3, we explored New York City and the city of Toronto and segmented and clustered their neighborhoods. Both cities are very diverse and are the financial capitals of their respective countries. One interesting idea would be to compare the neighborhoods of the two cities and determine how similar or dissimilar they are. Is New York City more like Toronto or Paris or some other multicultural city? I will leave it to you to refine this idea.\n",
    "In a city of your choice, if someone is looking to open a restaurant, where would you recommend that they open it? Similarly, if a contractor is trying to start their own business, where would you recommend that they setup their office?\n",
    "These are just a couple of many ideas and problems that can be solved using location data in addition to other datasets. No matter what you decide to do, make sure to provide sufficient justification of why you think what you want to do or solve is important and why would a client or a group of people be interested in your project."
   ]
  },
  {
   "cell_type": "markdown",
   "metadata": {},
   "source": [
    "## Introduction / A description of the problem"
   ]
  },
  {
   "cell_type": "markdown",
   "metadata": {},
   "source": [
    "### \"Which locality of all the cities in United States would be the best place to start a Gaming Arcade?\""
   ]
  },
  {
   "cell_type": "markdown",
   "metadata": {},
   "source": [
    "## Business Understanding\n",
    "\n",
    "Installing a Gaming arcade in a place should be done strategically. \n",
    "\n",
    "* Firstly, you should know why to start off with a place in particular?\n",
    "* If a place is chosen, you must have a very clear understanding of who would your potential customers be?\n",
    "* You need to have a clear understanding of the customers spending patterns in that locality etc. \n",
    "* Last but not the least, you need to take care of the legal aspects involved in that locality. "
   ]
  },
  {
   "cell_type": "markdown",
   "metadata": {},
   "source": [
    "### A description of the data and how it will be used to solve the problem.\n",
    "\n",
    "_Here's some brief about the locaions in particular(source: wikipedia):_\n",
    "\n",
    "As defined by the United States Census Bureau, an \"incorporated place\" includes a variety of designations, including city, town, village, borough, and municipality. A few exceptional census-designated places (CDPs) are also included in the Census Bureau's listing of incorporated places. Consolidated city-counties represent a distinct type of government that includes the entire population of a county, or county equivalent. Some consolidated city-counties, however, include multiple incorporated places.\n",
    "\n",
    "\n",
    "_About the State income levels:_ State income levels and income data for the United States as a whole are included for comparison. Note that county-equivalents in Louisiana are called \"parishes\" and in Alaska are called in \"boroughs,\" and also that in Alaska census areas in the Unorganized Borough are county-equivalents. For states where independent cities are county-equivalents, the word \"city\" is included to identify the independent cities and to differentiate them from counties with identical names; the counties with the identical names have the word \"county\" following them. The word \"county\" is included in the names of counties that have names identical to the names of U.S. states or cities to differentiate them."
   ]
  },
  {
   "cell_type": "markdown",
   "metadata": {},
   "source": [
    "#### My friend is interested in starting a gaming arcade in the best locality of all the cities in United states. He defines a best locality based on the following constraints :-\n",
    "\n",
    "##### * Population density of a locality \n",
    "##### * Per Capital income\n",
    "##### * Population of each location\n",
    "##### * Venues in each locality \n",
    "\n",
    "#### The category of the venues that he's interested in are, \n",
    "\n",
    "##### * Arts and Entertainment \n",
    "##### * Shops & Service\n",
    "##### * College and University\n",
    "##### * Event\n",
    "##### * Food\n",
    "##### * Nightlife Spot\n",
    "##### * Outdoors & Recreation\n",
    "##### * Professional & Other places\n",
    "##### * Residence\n",
    "##### * Travel & Transport"
   ]
  },
  {
   "cell_type": "markdown",
   "metadata": {},
   "source": [
    "## Data collection\n"
   ]
  },
  {
   "cell_type": "markdown",
   "metadata": {},
   "source": [
    "### To help him set up a gaming arcade, we will get the data from the below sources"
   ]
  },
  {
   "cell_type": "markdown",
   "metadata": {},
   "source": [
    "* List of all the cities in United States with population density and coordinates: https://en.wikipedia.org/wiki/List_of_United_States_cities_by_population\n",
    "* List of all the cities in United States with Per Capita Income : https://en.wikipedia.org/wiki/List_of_United_States_counties_by_per_capita_income"
   ]
  },
  {
   "cell_type": "markdown",
   "metadata": {},
   "source": [
    "Data downloaded or scraped from multiple sources were combined into one table. There were a lot of missing values so we need to clean the data."
   ]
  },
  {
   "cell_type": "markdown",
   "metadata": {},
   "source": [
    "#### finally :- \n",
    "\n",
    "We will use Four Square API to get the following\n",
    "\n",
    "* List of all venues in each city \n",
    "* List of all venues in each locality in the selected city\n",
    "\n",
    "In order to do the analysis and suggest the best location, following are the steps we have to follow :\n",
    "\n",
    "The Wikipedia page (https://en.wikipedia.org/wiki/List_of_United_States_cities_by_population) was scraped using the BeautifulSoup library to build a pandas dataframe listing the cities, states, coordinates, area and population density. The dataframe was cleaned and processed appropriately.\n",
    "\n",
    "The Wikipedia page (https://en.wikipedia.org/wiki/List_of_United_States_counties_by_per_capita_income) was scraped using the BeautifulSoup library to build a pandas dataframe listing the cities, states and percapita income. The dataframe was cleaned and processed appropriately.\n",
    "\n",
    "The Foursquare API is then used to get the venues in each city of United States\n",
    "\n",
    "Based on the categories of each venue as decided by the CEO, we have assigned weights to each of them and got the city that has the maximum weight.\n",
    "\n",
    "Once the city is finalized, we again use Four Square API to get the venues within that city and assign weights to each category.\n",
    "\n",
    "We will now use K means to cluster the venues based on the category and get the coordinates of the cluster that has maximum weight which is also our preferred location to setup a gaming arcade."
   ]
  },
  {
   "cell_type": "markdown",
   "metadata": {},
   "source": [
    "Using the above data we will first select best city to proceed with based on the values like:\n",
    "\n",
    "###### Population density\n",
    "###### per capita income of the state\n",
    "###### number of venues (as we are giving weights to each venue based on its category). \n",
    "\n",
    "Once we select a city, we then go hunting for Localities.\n",
    "Again, we do it using the same approach i.e. based on the scores of venues in each locality."
   ]
  },
  {
   "cell_type": "code",
   "execution_count": null,
   "metadata": {},
   "outputs": [],
   "source": []
  }
 ],
 "metadata": {
  "kernelspec": {
   "display_name": "Python 3",
   "language": "python",
   "name": "python3"
  },
  "language_info": {
   "codemirror_mode": {
    "name": "ipython",
    "version": 3
   },
   "file_extension": ".py",
   "mimetype": "text/x-python",
   "name": "python",
   "nbconvert_exporter": "python",
   "pygments_lexer": "ipython3",
   "version": "3.7.3"
  }
 },
 "nbformat": 4,
 "nbformat_minor": 1
}
